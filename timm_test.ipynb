{
 "cells": [
  {
   "cell_type": "code",
   "execution_count": null,
   "metadata": {},
   "outputs": [],
   "source": [
    "import timm\n",
    "model = timm.create_model('cspdarknet53', pretrained=True)"
   ]
  },
  {
   "cell_type": "code",
   "execution_count": null,
   "metadata": {},
   "outputs": [],
   "source": [
    "import torch\n",
    "a = torch.randn(1, 3, 224, 224)\n",
    "b = model.stem(a)\n",
    "print(b.shape)\n",
    "c = model.stages[0](b)\n",
    "print(c.shape)\n",
    "d = model.stages[1](c)\n",
    "print(d.shape)\n",
    "e = model.stages[2](d)\n",
    "print(e.shape)\n",
    "f = model.stages[3](e)\n",
    "print(f.shape)\n",
    "g = model.stages[4](f)\n",
    "print(g.shape)"
   ]
  },
  {
   "cell_type": "code",
   "execution_count": null,
   "metadata": {},
   "outputs": [],
   "source": [
    "from torchvision.models import vgg16_bn\n",
    "model = vgg16_bn()"
   ]
  },
  {
   "cell_type": "code",
   "execution_count": null,
   "metadata": {},
   "outputs": [],
   "source": [
    "model"
   ]
  },
  {
   "cell_type": "code",
   "execution_count": 63,
   "metadata": {},
   "outputs": [],
   "source": [
    "import torch\n",
    "a = [1, 1]\n",
    "b = torch.randn((2, 2, 3))"
   ]
  },
  {
   "cell_type": "code",
   "execution_count": 64,
   "metadata": {},
   "outputs": [
    {
     "data": {
      "text/plain": [
       "tensor([[[-1.5772, -0.3104,  1.1602],\n",
       "         [-0.2330,  1.9329,  1.3873]],\n",
       "\n",
       "        [[-1.5772, -0.3104,  1.1602],\n",
       "         [-0.2330,  1.9329,  1.3873]]])"
      ]
     },
     "execution_count": 64,
     "metadata": {},
     "output_type": "execute_result"
    }
   ],
   "source": []
  },
  {
   "cell_type": "code",
   "execution_count": 65,
   "metadata": {},
   "outputs": [
    {
     "name": "stdout",
     "output_type": "stream",
     "text": [
      "0 2\n",
      "1 1\n",
      "2 0\n"
     ]
    }
   ],
   "source": [
    "import numpy as np\n",
    "from lapsolver import solve_dense\n",
    "costs = np.array([\n",
    "    [6, 9, 1],\n",
    "    [10, 3, 2],\n",
    "    [8, 7, 4.]\n",
    "], dtype=np.float32)\n",
    "\n",
    "rids, cids = solve_dense(costs)\n",
    "\n",
    "for r,c in zip(rids, cids):\n",
    "    print(r,c) # Row/column pairings\n"
   ]
  },
  {
   "cell_type": "code",
   "execution_count": null,
   "metadata": {},
   "outputs": [],
   "source": []
  }
 ],
 "metadata": {
  "kernelspec": {
   "display_name": "Python 3.8.13 ('base')",
   "language": "python",
   "name": "python3"
  },
  "language_info": {
   "codemirror_mode": {
    "name": "ipython",
    "version": 3
   },
   "file_extension": ".py",
   "mimetype": "text/x-python",
   "name": "python",
   "nbconvert_exporter": "python",
   "pygments_lexer": "ipython3",
   "version": "3.8.13"
  },
  "orig_nbformat": 4,
  "vscode": {
   "interpreter": {
    "hash": "d4d1e4263499bec80672ea0156c357c1ee493ec2b1c70f0acce89fc37c4a6abe"
   }
  }
 },
 "nbformat": 4,
 "nbformat_minor": 2
}

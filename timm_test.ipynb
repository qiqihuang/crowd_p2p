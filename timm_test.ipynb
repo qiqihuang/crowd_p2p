{
 "cells": [
  {
   "cell_type": "code",
   "execution_count": null,
   "metadata": {},
   "outputs": [],
   "source": [
    "import timm\n",
    "model = timm.create_model('cspdarknet53', pretrained=True)"
   ]
  },
  {
   "cell_type": "code",
   "execution_count": null,
   "metadata": {},
   "outputs": [],
   "source": [
    "import torch\n",
    "a = torch.randn(1, 3, 224, 224)\n",
    "b = model.stem(a)\n",
    "print(b.shape)\n",
    "c = model.stages[0](b)\n",
    "print(c.shape)\n",
    "d = model.stages[1](c)\n",
    "print(d.shape)\n",
    "e = model.stages[2](d)\n",
    "print(e.shape)\n",
    "f = model.stages[3](e)\n",
    "print(f.shape)\n",
    "g = model.stages[4](f)\n",
    "print(g.shape)"
   ]
  },
  {
   "cell_type": "code",
   "execution_count": null,
   "metadata": {},
   "outputs": [],
   "source": [
    "from torchvision.models import vgg16_bn\n",
    "model = vgg16_bn()"
   ]
  },
  {
   "cell_type": "code",
   "execution_count": null,
   "metadata": {},
   "outputs": [],
   "source": [
    "model"
   ]
  },
  {
   "cell_type": "code",
   "execution_count": 63,
   "metadata": {},
   "outputs": [],
   "source": [
    "import torch\n",
    "a = [1, 1]\n",
    "b = torch.randn((2, 2, 3))"
   ]
  },
  {
   "cell_type": "code",
   "execution_count": 64,
   "metadata": {},
   "outputs": [
    {
     "data": {
      "text/plain": [
       "tensor([[[-1.5772, -0.3104,  1.1602],\n",
       "         [-0.2330,  1.9329,  1.3873]],\n",
       "\n",
       "        [[-1.5772, -0.3104,  1.1602],\n",
       "         [-0.2330,  1.9329,  1.3873]]])"
      ]
     },
     "execution_count": 64,
     "metadata": {},
     "output_type": "execute_result"
    }
   ],
   "source": []
  },
  {
   "cell_type": "code",
   "execution_count": 65,
   "metadata": {},
   "outputs": [
    {
     "name": "stdout",
     "output_type": "stream",
     "text": [
      "0 2\n",
      "1 1\n",
      "2 0\n"
     ]
    }
   ],
   "source": [
    "import numpy as np\n",
    "from lapsolver import solve_dense\n",
    "costs = np.array([\n",
    "    [6, 9, 1],\n",
    "    [10, 3, 2],\n",
    "    [8, 7, 4.]\n",
    "], dtype=np.float32)\n",
    "\n",
    "rids, cids = solve_dense(costs)\n",
    "\n",
    "for r,c in zip(rids, cids):\n",
    "    print(r,c) # Row/column pairings\n"
   ]
  },
  {
   "cell_type": "code",
   "execution_count": 22,
   "metadata": {},
   "outputs": [
    {
     "data": {
      "text/plain": [
       "tensor([[[-9.0728e-01,  7.4831e-04],\n",
       "         [ 1.8836e+00,  6.4097e-01],\n",
       "         [-1.9708e+00, -1.7597e-01],\n",
       "         [-2.1090e-01, -7.8655e-02],\n",
       "         [-6.6806e-01, -1.6330e+00],\n",
       "         [ 7.4294e-02, -1.2921e-01],\n",
       "         [ 3.5074e-01, -3.7310e-01],\n",
       "         [-2.1929e-01, -8.9881e-01],\n",
       "         [-1.6821e+00,  1.0053e-01],\n",
       "         [-1.5709e+00, -1.2616e+00],\n",
       "         [ 8.8918e-01, -8.4618e-01],\n",
       "         [ 1.2495e+00, -1.0922e+00],\n",
       "         [ 3.9817e-01,  9.9119e-02],\n",
       "         [ 2.9097e-01,  1.4218e+00],\n",
       "         [ 3.2436e-01,  5.3162e-01],\n",
       "         [ 7.9764e-02,  9.1724e-01],\n",
       "         [ 1.0446e+00,  4.1155e-01],\n",
       "         [-1.9982e+00,  3.0147e-02],\n",
       "         [ 7.5532e-02,  4.4692e-01],\n",
       "         [ 1.4963e+00,  1.6956e-01],\n",
       "         [-7.5376e-01, -2.2563e+00],\n",
       "         [ 6.0553e-01, -7.1097e-02],\n",
       "         [ 5.3964e-01, -6.1258e-01],\n",
       "         [-1.1925e+00, -1.3657e+00],\n",
       "         [ 3.9853e-01,  4.5631e-01],\n",
       "         [-1.1141e+00,  6.3242e-02],\n",
       "         [-1.1630e+00, -4.1442e-01],\n",
       "         [ 5.3494e-02,  5.2699e-01],\n",
       "         [-2.7505e+00,  1.4406e-01],\n",
       "         [-1.1081e+00,  1.3427e+00],\n",
       "         [ 3.3552e-01, -5.6445e-01],\n",
       "         [ 1.4472e+00, -1.4503e+00],\n",
       "         [-2.3089e-01, -1.5947e+00],\n",
       "         [ 1.1828e+00, -7.2141e-02],\n",
       "         [ 9.2256e-02, -1.5489e+00],\n",
       "         [-3.3059e-01,  1.1064e+00],\n",
       "         [ 1.0948e+00, -2.7705e-01],\n",
       "         [-7.1465e-02, -1.9891e-01],\n",
       "         [-3.1572e+00,  1.4142e+00],\n",
       "         [-3.5998e-01,  2.7101e-01],\n",
       "         [ 2.2431e-01,  3.2308e-01],\n",
       "         [-8.0674e-01,  5.0782e-01],\n",
       "         [-1.2897e+00,  1.5698e+00],\n",
       "         [-4.0203e-01, -1.4363e-03],\n",
       "         [ 3.5092e-01, -3.2284e+00],\n",
       "         [ 2.1761e+00, -3.6522e-01],\n",
       "         [ 1.2906e+00,  6.6306e-01],\n",
       "         [-6.0872e-01, -1.4407e-01],\n",
       "         [ 8.4327e-01, -1.0393e+00],\n",
       "         [-8.3161e-01,  6.6644e-01],\n",
       "         [-2.7851e+00, -5.7279e-01],\n",
       "         [ 1.3595e-01, -1.6864e+00],\n",
       "         [ 6.4127e-01, -2.2014e-01],\n",
       "         [-8.0584e-02,  2.6304e+00],\n",
       "         [ 1.4479e+00,  1.8106e+00],\n",
       "         [-1.5469e+00,  6.1134e-01],\n",
       "         [ 9.4795e-01,  8.8142e-01],\n",
       "         [ 6.6903e-01,  4.0265e-01],\n",
       "         [ 5.0314e-01, -1.0335e+00],\n",
       "         [ 4.3043e-01,  5.3317e-01],\n",
       "         [-8.4628e-01,  6.4459e-01],\n",
       "         [ 1.5058e+00, -1.0822e+00],\n",
       "         [ 6.5798e-01, -1.3588e+00],\n",
       "         [ 8.4245e-01,  9.0361e-02],\n",
       "         [ 8.0688e-01,  2.5640e-01],\n",
       "         [ 1.3940e+00,  8.0389e-01],\n",
       "         [ 8.9659e-01, -7.9888e-01],\n",
       "         [-5.7968e-01,  1.0455e+00],\n",
       "         [-7.6609e-01,  3.7804e-02],\n",
       "         [ 4.2752e-01, -5.3578e-01],\n",
       "         [-1.2625e-01, -1.1572e-01],\n",
       "         [-1.8867e+00,  3.3079e-01],\n",
       "         [ 1.2455e-01,  1.5135e+00],\n",
       "         [ 9.2042e-01,  2.6452e-01],\n",
       "         [ 1.8190e-01, -4.3703e-03],\n",
       "         [ 1.3806e+00,  6.9833e-01],\n",
       "         [ 9.4476e-01,  2.4936e+00],\n",
       "         [-1.6065e+00, -3.6424e-01],\n",
       "         [ 7.7152e-01, -5.8894e-01],\n",
       "         [-4.8123e-01,  5.3047e-01],\n",
       "         [ 1.5173e+00,  2.7678e-01],\n",
       "         [-9.8083e-01,  4.9121e-01],\n",
       "         [ 1.0757e+00,  4.3031e-01],\n",
       "         [-5.8871e-01,  1.7841e+00],\n",
       "         [ 1.6534e+00, -1.6245e+00],\n",
       "         [-2.0370e-01, -2.4737e-01],\n",
       "         [-1.8804e+00,  1.8596e-01],\n",
       "         [-2.7728e-01,  1.7865e-02],\n",
       "         [-1.2735e-01, -5.2076e-01],\n",
       "         [-1.6197e+00, -6.1805e-01],\n",
       "         [ 5.3953e-01, -6.6079e-01],\n",
       "         [-2.8931e-01,  2.2249e-01],\n",
       "         [-6.1494e-01,  1.7242e-01],\n",
       "         [ 8.8991e-01, -2.2287e-01],\n",
       "         [-4.5890e-01,  1.7200e+00],\n",
       "         [ 1.7099e+00,  4.1251e-01],\n",
       "         [ 2.0282e-01, -1.6661e+00],\n",
       "         [ 6.8193e-01,  2.4753e-01],\n",
       "         [-1.2866e-01,  7.7753e-01],\n",
       "         [-1.0047e+00, -4.8878e-01]]])"
      ]
     },
     "execution_count": 22,
     "metadata": {},
     "output_type": "execute_result"
    }
   ],
   "source": [
    "import torch\n",
    "a = torch.randn((1, 100, 2))\n",
    "a"
   ]
  },
  {
   "cell_type": "code",
   "execution_count": 24,
   "metadata": {},
   "outputs": [
    {
     "data": {
      "text/plain": [
       "torch.Size([1, 100])"
      ]
     },
     "execution_count": 24,
     "metadata": {},
     "output_type": "execute_result"
    }
   ],
   "source": [
    "a.select(2, 0).shape"
   ]
  },
  {
   "cell_type": "code",
   "execution_count": null,
   "metadata": {},
   "outputs": [],
   "source": [
    "from util.general import letterbox\n",
    "\n"
   ]
  }
 ],
 "metadata": {
  "kernelspec": {
   "display_name": "Python 3.8.13 ('base')",
   "language": "python",
   "name": "python3"
  },
  "language_info": {
   "codemirror_mode": {
    "name": "ipython",
    "version": 3
   },
   "file_extension": ".py",
   "mimetype": "text/x-python",
   "name": "python",
   "nbconvert_exporter": "python",
   "pygments_lexer": "ipython3",
   "version": "3.8.13"
  },
  "orig_nbformat": 4,
  "vscode": {
   "interpreter": {
    "hash": "d4d1e4263499bec80672ea0156c357c1ee493ec2b1c70f0acce89fc37c4a6abe"
   }
  }
 },
 "nbformat": 4,
 "nbformat_minor": 2
}
